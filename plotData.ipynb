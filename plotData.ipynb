{
 "cells": [
  {
   "cell_type": "markdown",
   "metadata": {},
   "source": [
    "# Accurary Line Graph"
   ]
  },
  {
   "cell_type": "code",
   "execution_count": 25,
   "metadata": {},
   "outputs": [
    {
     "data": {
      "image/png": "[encoded data removed]",
      "text/plain": [
       "<Figure size 432x288 with 1 Axes>"
      ]
     },
     "metadata": {
      "needs_background": "light"
     },
     "output_type": "display_data"
    }
   ],
   "source": [
    "import pandas as pd\n",
    "from matplotlib import pyplot as plt\n",
    "\n",
    "df = pd.read_csv(\"data/output.csv\")\n",
    "df = df[df[\"type\"] == 1]\n",
    "df['value1'] = df['value1'] * 100\n",
    "\n",
    "plt.plot(df[\"epoch\"], df[\"value1\"], label = \"GPU training\")\n",
    "\n",
    "plt.ylim([0, 100])\n",
    "plt.xlabel(\"Epochs\")\n",
    "plt.ylabel(\"Accuracy (%)\")\n",
    "plt.grid()\n",
    "plt.show()"
   ]
  },
  {
   "cell_type": "markdown",
   "metadata": {},
   "source": [
    "# Bar Graphs"
   ]
  },
  {
   "cell_type": "markdown",
   "metadata": {},
   "source": [
    "### Getting data"
   ]
  },
  {
   "cell_type": "code",
   "execution_count": 15,
   "metadata": {},
   "outputs": [
    {
     "data": {
      "text/html": [
       "<div>\n",
       "<style scoped>\n",
       "    .dataframe tbody tr th:only-of-type {\n",
       "        vertical-align: middle;\n",
       "    }\n",
       "\n",
       "    .dataframe tbody tr th {\n",
       "        vertical-align: top;\n",
       "    }\n",
       "\n",
       "    .dataframe thead th {\n",
       "        text-align: right;\n",
       "    }\n",
       "</style>\n",
       "<table border=\"1\" class=\"dataframe\">\n",
       "  <thead>\n",
       "    <tr style=\"text-align: right;\">\n",
       "      <th></th>\n",
       "      <th>type</th>\n",
       "      <th>epoch</th>\n",
       "      <th>start</th>\n",
       "      <th>loading</th>\n",
       "      <th>duration</th>\n",
       "      <th>value1</th>\n",
       "      <th>value2</th>\n",
       "    </tr>\n",
       "  </thead>\n",
       "  <tbody>\n",
       "    <tr>\n",
       "      <th>8</th>\n",
       "      <td>0</td>\n",
       "      <td>1</td>\n",
       "      <td>1.659406e+09</td>\n",
       "      <td>15.909727</td>\n",
       "      <td>62.921128</td>\n",
       "      <td>0.38900</td>\n",
       "      <td>0.81554</td>\n",
       "    </tr>\n",
       "    <tr>\n",
       "      <th>17</th>\n",
       "      <td>0</td>\n",
       "      <td>2</td>\n",
       "      <td>1.659406e+09</td>\n",
       "      <td>31.709230</td>\n",
       "      <td>125.718779</td>\n",
       "      <td>0.54660</td>\n",
       "      <td>0.90742</td>\n",
       "    </tr>\n",
       "    <tr>\n",
       "      <th>26</th>\n",
       "      <td>0</td>\n",
       "      <td>3</td>\n",
       "      <td>1.659406e+09</td>\n",
       "      <td>47.587896</td>\n",
       "      <td>188.591510</td>\n",
       "      <td>0.63872</td>\n",
       "      <td>0.93936</td>\n",
       "    </tr>\n",
       "    <tr>\n",
       "      <th>35</th>\n",
       "      <td>0</td>\n",
       "      <td>4</td>\n",
       "      <td>1.659406e+09</td>\n",
       "      <td>63.526479</td>\n",
       "      <td>251.517239</td>\n",
       "      <td>0.70394</td>\n",
       "      <td>0.95758</td>\n",
       "    </tr>\n",
       "    <tr>\n",
       "      <th>44</th>\n",
       "      <td>0</td>\n",
       "      <td>5</td>\n",
       "      <td>1.659406e+09</td>\n",
       "      <td>79.479064</td>\n",
       "      <td>314.466429</td>\n",
       "      <td>0.74516</td>\n",
       "      <td>0.96690</td>\n",
       "    </tr>\n",
       "  </tbody>\n",
       "</table>\n",
       "</div>"
      ],
      "text/plain": [
       "    type  epoch         start    loading    duration   value1   value2\n",
       "8      0      1  1.659406e+09  15.909727   62.921128  0.38900  0.81554\n",
       "17     0      2  1.659406e+09  31.709230  125.718779  0.54660  0.90742\n",
       "26     0      3  1.659406e+09  47.587896  188.591510  0.63872  0.93936\n",
       "35     0      4  1.659406e+09  63.526479  251.517239  0.70394  0.95758\n",
       "44     0      5  1.659406e+09  79.479064  314.466429  0.74516  0.96690"
      ]
     },
     "execution_count": 15,
     "metadata": {},
     "output_type": "execute_result"
    }
   ],
   "source": [
    "import pandas as pd\n",
    "from matplotlib import pyplot as plt\n",
    "\n",
    "def addlabels(x,y):\n",
    "    for i in range(len(x)):\n",
    "        plt.text(i, y[i], y[i], ha = 'center')\n",
    "\n",
    "# Colab GPU\n",
    "df = pd.read_csv(\"data/gpu50.csv\")\n",
    "df = df[df[\"type\"] == 0]\n",
    "\n",
    "# Local CPU\n",
    "df1 = pd.read_csv(\"data/cpu15.csv\")\n",
    "df1 = df1[df1[\"type\"] == 0]\n",
    "\n",
    "# Colab S3\n",
    "df2 = pd.read_csv(\"data/s3.csv\")\n",
    "df2 = df2[df2[\"type\"] == 0]\n",
    "\n",
    "# IBM COS\n",
    "df4 = pd.read_csv(\"data/ibm-s3.csv\")\n",
    "df4 = df4[df4[\"type\"] == 0]\n",
    "\n",
    "# IBM VM GPU Training\n",
    "df6 = pd.read_csv(\"data/ibm-gpu.csv\")\n",
    "df6 = df6[df6[\"type\"] == 0]\n",
    "\n",
    "df6.head()"
   ]
  },
  {
   "cell_type": "markdown",
   "metadata": {},
   "source": [
    "### Stacked bar of GPU vs CPU vs S3"
   ]
  },
  {
   "cell_type": "code",
   "execution_count": 3,
   "metadata": {},
   "outputs": [
    {
     "data": {
      "text/plain": [
       "Text(0, 0.5, 'Time (sec)')"
      ]
     },
     "execution_count": 3,
     "metadata": {},
     "output_type": "execute_result"
    },
    {
     "data": {
      "image/png": "[encoded data removed]",
      "text/plain": [
       "<Figure size 432x288 with 1 Axes>"
      ]
     },
     "metadata": {
      "needs_background": "light"
     },
     "output_type": "display_data"
    }
   ],
   "source": [
    "df3 = pd.DataFrame([['Local CPU', df1.iloc[-1]['loading'] / df1.iloc[-1]['epoch'], df1.iloc[-1]['duration'] / df1.iloc[-1]['epoch'] - df1.iloc[-1]['loading'] / df1.iloc[-1]['epoch']], \n",
    "                        ['Colab GPU', df.iloc[-1]['loading'] / df.iloc[-1]['epoch'], df.iloc[-1]['duration'] / df.iloc[-1]['epoch'] - df.iloc[-1]['loading'] / df.iloc[-1]['epoch']], \n",
    "                        ['Colab S3', df2.iloc[-1]['loading'] / df2.iloc[-1]['epoch'], df2.iloc[-1]['duration'] / df2.iloc[-1]['epoch'] - df2.iloc[-1]['loading'] / df2.iloc[-1]['epoch']]],\n",
    "                  columns=['Training Type', 'Loading Speed', 'Training Speed'])\n",
    "df3.plot(x='Training Type', kind='bar', stacked=True,\n",
    "        title='The Effect of Different Trainings on Average Training Speeds per Epoch')\n",
    "plt.ylim([0, 1500])\n",
    "plt.xticks(rotation=0, horizontalalignment=\"center\")\n",
    "plt.ylabel(\"Time (sec)\")"
   ]
  },
  {
   "cell_type": "markdown",
   "metadata": {},
   "source": [
    "### IBM VM-IBM COS versus Colab-S3"
   ]
  },
  {
   "cell_type": "code",
   "execution_count": 20,
   "metadata": {},
   "outputs": [
    {
     "data": {
      "text/plain": [
       "Text(0, 0.5, 'Time (sec)')"
      ]
     },
     "execution_count": 20,
     "metadata": {},
     "output_type": "execute_result"
    },
    {
     "data": {
      "image/png": "[encoded data removed]",
      "text/plain": [
       "<Figure size 432x288 with 1 Axes>"
      ]
     },
     "metadata": {
      "needs_background": "light"
     },
     "output_type": "display_data"
    }
   ],
   "source": [
    "df5 = pd.DataFrame([['Colab S3', df2.iloc[-1]['loading'] / df2.iloc[-1]['epoch'], df2.iloc[-1]['duration'] / df2.iloc[-1]['epoch'] - df2.iloc[-1]['loading'] / df2.iloc[-1]['epoch']], \n",
    "                    ['IBM VM GPU', df6.iloc[-1]['loading'] / df6.iloc[-1]['epoch'], df6.iloc[-1]['duration'] / df6.iloc[-1]['epoch'] - df6.iloc[-1]['loading'] / df6.iloc[-1]['epoch']],\n",
    "                    ['IBM VM IBM COS S3', df4.iloc[-1]['loading'] / df4.iloc[-1]['epoch'], df4.iloc[-1]['duration'] / df4.iloc[-1]['epoch'] - df4.iloc[-1]['loading'] / df4.iloc[-1]['epoch']]],\n",
    "                  columns=['Training Type', 'Loading Speed', 'Training Speed'])\n",
    "df5.plot(x='Training Type', kind='bar', stacked=True,\n",
    "        title='The Effect of Different Trainings on Average Training Speeds per Epoch')\n",
    "plt.xticks(rotation=0, horizontalalignment=\"center\")\n",
    "plt.ylabel(\"Time (sec)\")"
   ]
  }
 ],
 "metadata": {
  "kernelspec": {
   "display_name": "Python 3.8.2 64-bit",
   "language": "python",
   "name": "python3"
  },
  "language_info": {
   "codemirror_mode": {
    "name": "ipython",
    "version": 3
   },
   "file_extension": ".py",
   "mimetype": "text/x-python",
   "name": "python",
   "nbconvert_exporter": "python",
   "pygments_lexer": "ipython3",
   "version": "3.8.2"
  },
  "orig_nbformat": 4,
  "vscode": {
   "interpreter": {
    "hash": "31f2aee4e71d21fbe5cf8b01ff0e069b9275f58929596ceb00d14d90e3e16cd6"
   }
  }
 },
 "nbformat": 4,
 "nbformat_minor": 2
}
